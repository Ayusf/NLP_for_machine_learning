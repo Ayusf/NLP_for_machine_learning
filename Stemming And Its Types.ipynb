{
 "cells": [
  {
   "cell_type": "markdown",
   "id": "1d5c18fc",
   "metadata": {},
   "source": [
    "## Stemming And Its Types"
   ]
  },
  {
   "cell_type": "markdown",
   "id": "60bb2f85",
   "metadata": {},
   "source": [
    "stemming is process of converting given word into a steam word \n",
    "ex eating, eat,eaten [going,gone,goes]--->go\n",
    "\n",
    "types are:\n",
    "- porter stemming \n",
    "- regrxp stemming\n",
    "- snowball stemming\n",
    "\n",
    "accuracy of snowball semming is high compared with rest .\n",
    "but still performance of snowball in low so we use lemmatization."
   ]
  },
  {
   "cell_type": "code",
   "execution_count": 8,
   "id": "2b3d2440",
   "metadata": {},
   "outputs": [],
   "source": [
    "words=[\"eating\",\"eats\",\"eaten\",\"writing\",\"writes\",\"programming\",\"programs\",\"history\",\"finally\",\"finalized\"]"
   ]
  },
  {
   "cell_type": "markdown",
   "id": "880eebdc",
   "metadata": {},
   "source": [
    "### porterstemmer"
   ]
  },
  {
   "cell_type": "code",
   "execution_count": 9,
   "id": "2843a8da",
   "metadata": {},
   "outputs": [],
   "source": [
    "from nltk.stem import PorterStemmer"
   ]
  },
  {
   "cell_type": "code",
   "execution_count": 19,
   "id": "7efd5d9a",
   "metadata": {},
   "outputs": [
    {
     "name": "stdout",
     "output_type": "stream",
     "text": [
      "eating---->eat\n",
      "eats---->eat\n",
      "eaten---->eaten\n",
      "writing---->write\n",
      "writes---->write\n",
      "programming---->program\n",
      "programs---->program\n",
      "history---->histori\n",
      "finally---->final\n",
      "finalized---->final\n"
     ]
    }
   ],
   "source": [
    "stemming = PorterStemmer()\n",
    "\n",
    "for word in words:\n",
    "     print(f'{word}---->{stemming.stem(word)}')\n",
    "    "
   ]
  },
  {
   "cell_type": "markdown",
   "id": "cbd65920",
   "metadata": {},
   "source": [
    "### regexpstemmer"
   ]
  },
  {
   "cell_type": "code",
   "execution_count": 18,
   "id": "f0e9f672",
   "metadata": {},
   "outputs": [
    {
     "name": "stdout",
     "output_type": "stream",
     "text": [
      "eating---->eat\n",
      "eats---->eat\n",
      "eaten---->eaten\n",
      "writing---->writ\n",
      "writes---->write\n",
      "programming---->programm\n",
      "programs---->program\n",
      "history---->history\n",
      "finally---->finally\n",
      "finalized---->finalized\n"
     ]
    }
   ],
   "source": [
    "from nltk.stem import RegexpStemmer\n",
    "\n",
    "reg_stem = RegexpStemmer('ing$|s$|e$|able$', min=4) #min represent world lenght must =< than 4\n",
    "\n",
    "for word in words:\n",
    "    print(f'{word}---->{reg_stem.stem(word)}')"
   ]
  },
  {
   "cell_type": "markdown",
   "id": "795f180a",
   "metadata": {},
   "source": [
    "### Snowball Stemmer"
   ]
  },
  {
   "cell_type": "code",
   "execution_count": 15,
   "id": "e9cc4c1a",
   "metadata": {},
   "outputs": [],
   "source": [
    "from nltk.stem import SnowballStemmer"
   ]
  },
  {
   "cell_type": "code",
   "execution_count": 16,
   "id": "e61ee0d4",
   "metadata": {},
   "outputs": [],
   "source": [
    "snowballsstemmer=SnowballStemmer('english')"
   ]
  },
  {
   "cell_type": "code",
   "execution_count": 17,
   "id": "327ccaa6",
   "metadata": {},
   "outputs": [
    {
     "name": "stdout",
     "output_type": "stream",
     "text": [
      "eating---->eat\n",
      "eats---->eat\n",
      "eaten---->eaten\n",
      "writing---->write\n",
      "writes---->write\n",
      "programming---->program\n",
      "programs---->program\n",
      "history---->histori\n",
      "finally---->final\n",
      "finalized---->final\n"
     ]
    }
   ],
   "source": [
    "for word in words:\n",
    "    print(word+\"---->\"+snowballsstemmer.stem(word))"
   ]
  },
  {
   "cell_type": "code",
   "execution_count": null,
   "id": "0dc7f995",
   "metadata": {},
   "outputs": [],
   "source": []
  }
 ],
 "metadata": {
  "kernelspec": {
   "display_name": "Python 3",
   "language": "python",
   "name": "python3"
  },
  "language_info": {
   "codemirror_mode": {
    "name": "ipython",
    "version": 3
   },
   "file_extension": ".py",
   "mimetype": "text/x-python",
   "name": "python",
   "nbconvert_exporter": "python",
   "pygments_lexer": "ipython3",
   "version": "3.11.0"
  }
 },
 "nbformat": 4,
 "nbformat_minor": 5
}
