{
 "cells": [
  {
   "cell_type": "markdown",
   "id": "63cf265e",
   "metadata": {},
   "source": [
    "## Tokenization Example Using NLTK"
   ]
  },
  {
   "cell_type": "code",
   "execution_count": 9,
   "id": "53495c2a",
   "metadata": {},
   "outputs": [],
   "source": [
    "from nltk.tokenize import sent_tokenize"
   ]
  },
  {
   "cell_type": "code",
   "execution_count": 10,
   "id": "f9609b97",
   "metadata": {},
   "outputs": [
    {
     "name": "stdout",
     "output_type": "stream",
     "text": [
      "On a quiet hill surrounded by swaying trees and golden grass, an old wooden bench sat beneath the open sky, weathered by time but full of stories.\n",
      "Birds chirped above like a natural symphony, while a gentle breeze carried the scent of pine and wildflowers.\n",
      "No one really knew who built the bench, but every evening, someone different would find their way there—an artist sketching clouds, a child chasing shadows, or a traveler just resting. \n",
      "The bench, without ever speaking, listened to dreams, fears, and laughter, becoming a silent witness to life unfolding in the most ordinary and beautiful way.\n",
      "\n"
     ]
    }
   ],
   "source": [
    "# corpus is our sentence \n",
    "\n",
    "corpus = '''On a quiet hill surrounded by swaying trees and golden grass, an old wooden bench sat beneath the open sky, weathered by time but full of stories.\n",
    "Birds chirped above like a natural symphony, while a gentle breeze carried the scent of pine and wildflowers.\n",
    "No one really knew who built the bench, but every evening, someone different would find their way there—an artist sketching clouds, a child chasing shadows, or a traveler just resting. \n",
    "The bench, without ever speaking, listened to dreams, fears, and laughter, becoming a silent witness to life unfolding in the most ordinary and beautiful way.\n",
    "'''\n",
    "print(corpus)"
   ]
  },
  {
   "cell_type": "markdown",
   "id": "77be16a2",
   "metadata": {},
   "source": [
    "### Tokenization (corpus to document)"
   ]
  },
  {
   "cell_type": "code",
   "execution_count": 11,
   "id": "1067695f",
   "metadata": {},
   "outputs": [],
   "source": [
    "# converting paragraph to sentence\n",
    "document = sent_tokenize(corpus)"
   ]
  },
  {
   "cell_type": "code",
   "execution_count": 12,
   "id": "4ebe9de9",
   "metadata": {},
   "outputs": [
    {
     "data": {
      "text/plain": [
       "['On a quiet hill surrounded by swaying trees and golden grass, an old wooden bench sat beneath the open sky, weathered by time but full of stories.',\n",
       " 'Birds chirped above like a natural symphony, while a gentle breeze carried the scent of pine and wildflowers.',\n",
       " 'No one really knew who built the bench, but every evening, someone different would find their way there—an artist sketching clouds, a child chasing shadows, or a traveler just resting.',\n",
       " 'The bench, without ever speaking, listened to dreams, fears, and laughter, becoming a silent witness to life unfolding in the most ordinary and beautiful way.']"
      ]
     },
     "execution_count": 12,
     "metadata": {},
     "output_type": "execute_result"
    }
   ],
   "source": [
    "document"
   ]
  },
  {
   "cell_type": "code",
   "execution_count": 14,
   "id": "54f483bd",
   "metadata": {},
   "outputs": [
    {
     "name": "stdout",
     "output_type": "stream",
     "text": [
      "On a quiet hill surrounded by swaying trees and golden grass, an old wooden bench sat beneath the open sky, weathered by time but full of stories.\n",
      "Birds chirped above like a natural symphony, while a gentle breeze carried the scent of pine and wildflowers.\n",
      "No one really knew who built the bench, but every evening, someone different would find their way there—an artist sketching clouds, a child chasing shadows, or a traveler just resting.\n",
      "The bench, without ever speaking, listened to dreams, fears, and laughter, becoming a silent witness to life unfolding in the most ordinary and beautiful way.\n"
     ]
    }
   ],
   "source": [
    "for sentence in document:\n",
    "    print(sentence)"
   ]
  },
  {
   "cell_type": "markdown",
   "id": "b2083122",
   "metadata": {},
   "source": [
    "## Tokenization (sentence to word)"
   ]
  },
  {
   "cell_type": "code",
   "execution_count": 15,
   "id": "bb92729f",
   "metadata": {},
   "outputs": [],
   "source": [
    "from nltk.tokenize import word_tokenize"
   ]
  },
  {
   "cell_type": "code",
   "execution_count": 21,
   "id": "8ed289a8",
   "metadata": {},
   "outputs": [
    {
     "name": "stdout",
     "output_type": "stream",
     "text": [
      "['On', 'a', 'quiet', 'hill', 'surrounded', 'by', 'swaying', 'trees', 'and', 'golden', 'grass', ',', 'an', 'old', 'wooden', 'bench', 'sat', 'beneath', 'the', 'open', 'sky', ',', 'weathered', 'by', 'time', 'but', 'full', 'of', 'stories', '.', 'Birds', 'chirped', 'above', 'like', 'a', 'natural', 'symphony', ',', 'while', 'a', 'gentle', 'breeze', 'carried', 'the', 'scent', 'of', 'pine', 'and', 'wildflowers', '.', 'No', 'one', 'really', 'knew', 'who', 'built', 'the', 'bench', ',', 'but', 'every', 'evening', ',', 'someone', 'different', 'would', 'find', 'their', 'way', 'there—an', 'artist', 'sketching', 'clouds', ',', 'a', 'child', 'chasing', 'shadows', ',', 'or', 'a', 'traveler', 'just', 'resting', '.', 'The', 'bench', ',', 'without', 'ever', 'speaking', ',', 'listened', 'to', 'dreams', ',', 'fears', ',', 'and', 'laughter', ',', 'becoming', 'a', 'silent', 'witness', 'to', 'life', 'unfolding', 'in', 'the', 'most', 'ordinary', 'and', 'beautiful', 'way', '.']\n"
     ]
    }
   ],
   "source": [
    "word = word_tokenize(corpus)\n",
    "print(word)"
   ]
  },
  {
   "cell_type": "code",
   "execution_count": null,
   "id": "484b1747",
   "metadata": {},
   "outputs": [],
   "source": []
  }
 ],
 "metadata": {
  "kernelspec": {
   "display_name": "Python 3",
   "language": "python",
   "name": "python3"
  },
  "language_info": {
   "codemirror_mode": {
    "name": "ipython",
    "version": 3
   },
   "file_extension": ".py",
   "mimetype": "text/x-python",
   "name": "python",
   "nbconvert_exporter": "python",
   "pygments_lexer": "ipython3",
   "version": "3.11.0"
  }
 },
 "nbformat": 4,
 "nbformat_minor": 5
}
