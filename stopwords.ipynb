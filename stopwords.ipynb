{
 "cells": [
  {
   "cell_type": "markdown",
   "id": "04e9673a",
   "metadata": {},
   "source": [
    "### Stop words in text preprocessing"
   ]
  },
  {
   "cell_type": "code",
   "execution_count": 1,
   "id": "a5de3a3d",
   "metadata": {},
   "outputs": [
    {
     "name": "stderr",
     "output_type": "stream",
     "text": [
      "[nltk_data] Downloading package stopwords to\n",
      "[nltk_data]     C:\\Users\\AYUSH\\AppData\\Roaming\\nltk_data...\n",
      "[nltk_data]   Package stopwords is already up-to-date!\n"
     ]
    },
    {
     "data": {
      "text/plain": [
       "True"
      ]
     },
     "execution_count": 1,
     "metadata": {},
     "output_type": "execute_result"
    }
   ],
   "source": [
    "import nltk\n",
    "nltk.download('stopwords')"
   ]
  },
  {
   "cell_type": "code",
   "execution_count": 2,
   "id": "81bdc5c3",
   "metadata": {},
   "outputs": [
    {
     "name": "stdout",
     "output_type": "stream",
     "text": [
      "['a', 'about', 'above', 'after', 'again', 'against', 'ain', 'all', 'am', 'an', 'and', 'any', 'are', 'aren', \"aren't\", 'as', 'at', 'be', 'because', 'been', 'before', 'being', 'below', 'between', 'both', 'but', 'by', 'can', 'couldn', \"couldn't\", 'd', 'did', 'didn', \"didn't\", 'do', 'does', 'doesn', \"doesn't\", 'doing', 'don', \"don't\", 'down', 'during', 'each', 'few', 'for', 'from', 'further', 'had', 'hadn', \"hadn't\", 'has', 'hasn', \"hasn't\", 'have', 'haven', \"haven't\", 'having', 'he', \"he'd\", \"he'll\", 'her', 'here', 'hers', 'herself', \"he's\", 'him', 'himself', 'his', 'how', 'i', \"i'd\", 'if', \"i'll\", \"i'm\", 'in', 'into', 'is', 'isn', \"isn't\", 'it', \"it'd\", \"it'll\", \"it's\", 'its', 'itself', \"i've\", 'just', 'll', 'm', 'ma', 'me', 'mightn', \"mightn't\", 'more', 'most', 'mustn', \"mustn't\", 'my', 'myself', 'needn', \"needn't\", 'no', 'nor', 'not', 'now', 'o', 'of', 'off', 'on', 'once', 'only', 'or', 'other', 'our', 'ours', 'ourselves', 'out', 'over', 'own', 're', 's', 'same', 'shan', \"shan't\", 'she', \"she'd\", \"she'll\", \"she's\", 'should', 'shouldn', \"shouldn't\", \"should've\", 'so', 'some', 'such', 't', 'than', 'that', \"that'll\", 'the', 'their', 'theirs', 'them', 'themselves', 'then', 'there', 'these', 'they', \"they'd\", \"they'll\", \"they're\", \"they've\", 'this', 'those', 'through', 'to', 'too', 'under', 'until', 'up', 've', 'very', 'was', 'wasn', \"wasn't\", 'we', \"we'd\", \"we'll\", \"we're\", 'were', 'weren', \"weren't\", \"we've\", 'what', 'when', 'where', 'which', 'while', 'who', 'whom', 'why', 'will', 'with', 'won', \"won't\", 'wouldn', \"wouldn't\", 'y', 'you', \"you'd\", \"you'll\", 'your', \"you're\", 'yours', 'yourself', 'yourselves', \"you've\"]\n"
     ]
    }
   ],
   "source": [
    "from nltk.corpus import stopwords\n",
    "print(stopwords.words('english'))"
   ]
  },
  {
   "cell_type": "code",
   "execution_count": 3,
   "id": "f2dfee8e",
   "metadata": {},
   "outputs": [],
   "source": [
    "corpus = \"\"\"Yesterday, I went to a coffee shop near my college. As I entered, I saw one of my classmates, Riya, sitting alone at a table. I walked over and said, \"Hey Riya! Mind if I join you?\" She smiled and replied, \"Of course not! Have a seat.\" I ordered a cappuccino and we started talking about our upcoming exams. Riya said, \"I’m really nervous about the data science paper.\" I nodded and replied, \"Same here. I’ve been trying to revise regularly, but it’s a lot to remember.\" We shared some notes and decided to study together over the weekend. It felt good to talk and realize I’m not the only one feeling stressed. Before I left, Riya said, \"Thanks for the company. Let’s catch up again soon.\" I smiled and replied, \"Definitely. Good luck with your studies!\"\n",
    "\"\"\"\n"
   ]
  },
  {
   "cell_type": "markdown",
   "id": "67d7fad8",
   "metadata": {},
   "source": [
    "## converting paragraph to sentence"
   ]
  },
  {
   "cell_type": "code",
   "execution_count": 4,
   "id": "715fbf2a",
   "metadata": {},
   "outputs": [
    {
     "data": {
      "text/plain": [
       "['Yesterday, I went to a coffee shop near my college.',\n",
       " 'As I entered, I saw one of my classmates, Riya, sitting alone at a table.',\n",
       " 'I walked over and said, \"Hey Riya!',\n",
       " 'Mind if I join you?\"',\n",
       " 'She smiled and replied, \"Of course not!',\n",
       " 'Have a seat.\"',\n",
       " 'I ordered a cappuccino and we started talking about our upcoming exams.',\n",
       " 'Riya said, \"I’m really nervous about the data science paper.\"',\n",
       " 'I nodded and replied, \"Same here.',\n",
       " 'I’ve been trying to revise regularly, but it’s a lot to remember.\"',\n",
       " 'We shared some notes and decided to study together over the weekend.',\n",
       " 'It felt good to talk and realize I’m not the only one feeling stressed.',\n",
       " 'Before I left, Riya said, \"Thanks for the company.',\n",
       " 'Let’s catch up again soon.\"',\n",
       " 'I smiled and replied, \"Definitely.',\n",
       " 'Good luck with your studies!\"']"
      ]
     },
     "execution_count": 4,
     "metadata": {},
     "output_type": "execute_result"
    }
   ],
   "source": [
    "from nltk.stem import SnowballStemmer\n",
    "sentences=nltk.sent_tokenize(corpus)\n",
    "sentences"
   ]
  },
  {
   "cell_type": "code",
   "execution_count": 5,
   "id": "dea86aad",
   "metadata": {},
   "outputs": [],
   "source": [
    "from nltk.stem import SnowballStemmer\n",
    "snowballstemmer = SnowballStemmer('english')"
   ]
  },
  {
   "cell_type": "code",
   "execution_count": 6,
   "id": "f6f15623",
   "metadata": {},
   "outputs": [],
   "source": [
    "for i in range(len(sentences)):\n",
    "    words=nltk.word_tokenize(sentences[i])\n",
    "    words=[snowballstemmer.stem(word) for word in words if word not in set(stopwords.words('english'))]\n",
    "    sentences[i]=' '.join(words)"
   ]
  },
  {
   "cell_type": "code",
   "execution_count": 7,
   "id": "9428a18a",
   "metadata": {},
   "outputs": [],
   "source": [
    "from nltk.stem import WordNetLemmatizer\n",
    "lemmatizer=WordNetLemmatizer()"
   ]
  },
  {
   "cell_type": "code",
   "execution_count": 10,
   "id": "a34e4e26",
   "metadata": {},
   "outputs": [],
   "source": [
    "for i in range(len(sentences)):\n",
    "    sentences[i]=sentences[i].lower()\n",
    "    words=nltk.word_tokenize(sentences[i])\n",
    "    words=[lemmatizer.lemmatize(word,pos='v') for word in words if word not in set(stopwords.words('english'))]\n",
    "    sentences[i]=' '.join(words)"
   ]
  },
  {
   "cell_type": "code",
   "execution_count": 11,
   "id": "d188b06a",
   "metadata": {},
   "outputs": [
    {
     "data": {
      "text/plain": [
       "['yesterday , go coffe shop near colleg .',\n",
       " 'enter , saw one classmat , riya , sit alon tabl .',\n",
       " 'walk say , `` hey riya !',\n",
       " 'mind join ? ``',\n",
       " 'smile repli , `` cours !',\n",
       " 'seat . ``',\n",
       " 'order cappuccino start talk upcom exam .',\n",
       " 'riya say , `` ’ realli nervous data scienc paper . ``',\n",
       " 'nod repli , `` .',\n",
       " '’ tri revis regular , ’ lot rememb . ``',\n",
       " 'share note decid studi togeth weekend .',\n",
       " 'felt good talk realiz ’ one feel stress .',\n",
       " 'befor leave , riya say , `` thank compani .',\n",
       " 'let ’ catch soon . ``',\n",
       " 'smile repli , `` definit .',\n",
       " 'good luck studi ! ``']"
      ]
     },
     "execution_count": 11,
     "metadata": {},
     "output_type": "execute_result"
    }
   ],
   "source": [
    "sentences"
   ]
  },
  {
   "cell_type": "code",
   "execution_count": null,
   "id": "97821c8b",
   "metadata": {},
   "outputs": [],
   "source": []
  }
 ],
 "metadata": {
  "kernelspec": {
   "display_name": "Python 3",
   "language": "python",
   "name": "python3"
  },
  "language_info": {
   "codemirror_mode": {
    "name": "ipython",
    "version": 3
   },
   "file_extension": ".py",
   "mimetype": "text/x-python",
   "name": "python",
   "nbconvert_exporter": "python",
   "pygments_lexer": "ipython3",
   "version": "3.11.0"
  }
 },
 "nbformat": 4,
 "nbformat_minor": 5
}
